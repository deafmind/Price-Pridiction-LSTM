{
 "cells": [
  {
   "cell_type": "markdown",
   "id": "26901a4a",
   "metadata": {
    "vscode": {
     "languageId": "plaintext"
    }
   },
   "source": [
    "# LSTM Model for Stock Price Prediction\n",
    "\n",
    "## This NoteBook loads preprocessed data, defines an LSTM model using PyTorch, trains it, and evaluates its performance on stock price prediction."
   ]
  },
  {
   "cell_type": "markdown",
   "id": "2046c319",
   "metadata": {
    "vscode": {
     "languageId": "plaintext"
    }
   },
   "source": [
    "## 1. Load Preprocessed Data"
   ]
  },
  {
   "cell_type": "markdown",
   "id": "ae055fb7",
   "metadata": {},
   "source": [
    "### Define Libraries"
   ]
  },
  {
   "cell_type": "code",
   "execution_count": null,
   "id": "1f339bbe",
   "metadata": {},
   "outputs": [],
   "source": [
    "import torch\n",
    "import torch.nn as nn\n",
    "import torch.optim as optim\n",
    "from torch.utils.data import TensorDataset, DataLoader\n",
    "import matplotlib.pyplot as plt\n",
    "import numpy as np\n",
    "import joblib"
   ]
  },
  {
   "cell_type": "markdown",
   "id": "b4a298bc",
   "metadata": {},
   "source": [
    "#### Load the preprocessed sequences and scaler from the preprocessing script."
   ]
  },
  {
   "cell_type": "code",
   "execution_count": null,
   "id": "f7a81529",
   "metadata": {},
   "outputs": [],
   "source": [
    "\n",
    "\n",
    "X_train = np.load('X_train.npy')\n",
    "X_test = np.load('X_test.npy')\n",
    "y_train = np.load('y_train.npy')\n",
    "y_test = np.load('y_test.npy')\n",
    "scaler = joblib.load('scaler.pkl')\n",
    "features_to_scale = joblib.load('../data/features_to_scale.pkl')\n",
    "\n",
    "print(f\"X_train shape: {X_train.shape}\")\n",
    "print(f\"y_train shape: {y_train.shape}\")\n",
    "print(f\"X_test shape: {X_test.shape}\")\n",
    "print(f\"y_test shape: {y_test.shape}\")"
   ]
  },
  {
   "cell_type": "markdown",
   "id": "77279fce",
   "metadata": {},
   "source": [
    "### Define the LSTM model architecture and set up the device (CPU/GPU)."
   ]
  },
  {
   "cell_type": "markdown",
   "id": "7597dca4",
   "metadata": {},
   "source": [
    "#### Check for GPU availabiliy"
   ]
  },
  {
   "cell_type": "code",
   "execution_count": null,
   "id": "6dd2f81f",
   "metadata": {},
   "outputs": [],
   "source": [
    "device = torch.device('cuda' if torch.cuda.is_available() else 'cpu')\n",
    "print(f\"Using device: {device}\")"
   ]
  },
  {
   "cell_type": "markdown",
   "id": "d1e00a31",
   "metadata": {},
   "source": [
    "#### Define LSTM Model"
   ]
  },
  {
   "cell_type": "code",
   "execution_count": null,
   "id": "fd0c41a3",
   "metadata": {},
   "outputs": [],
   "source": [
    "class LSTMModel(nn.Module):\n",
    "    def __init__(self, input_size, hidden_size, num_layers, output_size, dropout_prob=0.2):\n",
    "        super(LSTMModel, self).__init__()\n",
    "        self.hidden_size = hidden_size\n",
    "        self.num_layers = num_layers\n",
    "        self.lstm = nn.LSTM(input_size, hidden_size, num_layers, batch_first=True, dropout=dropout_prob)\n",
    "        self.dropout = nn.Dropout(dropout_prob)\n",
    "        self.fc = nn.Linear(hidden_size, output_size)\n",
    "\n",
    "    def forward(self, x):\n",
    "        h0 = torch.zeros(self.num_layers, x.size(0), self.hidden_size).to(device)\n",
    "        c0 = torch.zeros(self.num_layers, x.size(0), self.hidden_size).to(device)\n",
    "        out, _ = self.lstm(x, (h0, c0))\n",
    "        out = self.dropout(out[:, -1, :])\n",
    "        out = self.fc(out)\n",
    "        return out"
   ]
  },
  {
   "cell_type": "markdown",
   "id": "ec0aef73",
   "metadata": {},
   "source": [
    "## 3. Prepare the Data for Training"
   ]
  },
  {
   "cell_type": "markdown",
   "id": "b4a8a829",
   "metadata": {},
   "source": [
    "\n",
    "### Convert data to PyTorch tensors and create data loaders.\n",
    "\n",
    "### Convert NumPy arrays to PyTorch Tensors"
   ]
  },
  {
   "cell_type": "code",
   "execution_count": null,
   "id": "b152fa92",
   "metadata": {},
   "outputs": [],
   "source": [
    "X_train_tensor = torch.tensor(X_train, dtype=torch.float32).to(device)\n",
    "y_train_tensor = torch.tensor(y_train, dtype=torch.float32).unsqueeze(1).to(device)\n",
    "X_test_tensor = torch.tensor(X_test, dtype=torch.float32).to(device)\n",
    "y_test_tensor = torch.tensor(y_test, dtype=torch.float32).unsqueeze(1).to(device)\n"
   ]
  },
  {
   "cell_type": "markdown",
   "id": "d65f85fc",
   "metadata": {},
   "source": [
    "### Create TensorDataset and DataLoader"
   ]
  },
  {
   "cell_type": "code",
   "execution_count": null,
   "id": "8d5e51fc",
   "metadata": {},
   "outputs": [],
   "source": [
    "batch_size = 64\n",
    "train_dataset = TensorDataset(X_train_tensor, y_train_tensor)\n",
    "train_loader = DataLoader(train_dataset, batch_size=batch_size, shuffle=False)\n",
    "test_dataset = TensorDataset(X_test_tensor, y_test_tensor)\n",
    "test_loader = DataLoader(test_dataset, batch_size=batch_size, shuffle=False)"
   ]
  },
  {
   "cell_type": "markdown",
   "id": "c8332e75",
   "metadata": {},
   "source": [
    "### Define Model Parameterss"
   ]
  },
  {
   "cell_type": "code",
   "execution_count": null,
   "id": "cc8b9096",
   "metadata": {},
   "outputs": [],
   "source": [
    "input_size = X_train.shape[2]\n",
    "hidden_size = 128\n",
    "num_layers = 2\n",
    "output_size = 1\n",
    "learning_rate = 0.001\n",
    "num_epochs = 100"
   ]
  },
  {
   "cell_type": "markdown",
   "id": "6b91134b",
   "metadata": {},
   "source": [
    "## 4. Train the Model"
   ]
  },
  {
   "cell_type": "markdown",
   "id": "3d4b2c2b",
   "metadata": {},
   "source": [
    "### Instantiate the model, define the loss function and optimizer, and train the model."
   ]
  },
  {
   "cell_type": "code",
   "execution_count": null,
   "id": "a1197494",
   "metadata": {},
   "outputs": [],
   "source": [
    "model = LSTMModel(input_size, hidden_size, num_layers, output_size).to(device)\n",
    "criterion = nn.MSELoss()\n",
    "optimizer = optim.Adam(model.parameters(), lr=learning_rate)\n",
    "\n",
    "print(f\"\\nModel Architecture:\\n{model}\")\n",
    "print(f\"\\nNumber of parameters: {sum(p.numel() for p in model.parameters() if p.requires_grad)}\")\n",
    "\n",
    "print(\"\\n--- Starting Model Training ---\")\n",
    "train_losses = []\n",
    "for epoch in range(num_epochs):\n",
    "    model.train()\n",
    "    for batch_X, batch_y in train_loader:\n",
    "        outputs = model(batch_X)\n",
    "        loss = criterion(outputs, batch_y)\n",
    "        optimizer.zero_grad()\n",
    "        loss.backward()\n",
    "        optimizer.step()\n",
    "    train_losses.append(loss.item())\n",
    "    if (epoch+1) % 10 == 0:\n",
    "        print(f'Epoch [{epoch+1}/{num_epochs}], Loss: {loss.item():.6f}')\n",
    "\n",
    "print(\"--- Training Complete ---\")"
   ]
  },
  {
   "cell_type": "markdown",
   "id": "170d7841",
   "metadata": {},
   "source": [
    "### Plot training loss"
   ]
  },
  {
   "cell_type": "code",
   "execution_count": null,
   "id": "e8416ac0",
   "metadata": {},
   "outputs": [],
   "source": [
    "plt.figure(figsize=(10, 6))\n",
    "plt.plot(train_losses, label='Training Loss')\n",
    "plt.title('Training Loss over Epochs')\n",
    "plt.xlabel('Epoch')\n",
    "plt.ylabel('Loss (MSE)')\n",
    "plt.legend()\n",
    "plt.grid(True)\n",
    "plt.show()\n"
   ]
  },
  {
   "cell_type": "markdown",
   "id": "351d575b",
   "metadata": {},
   "source": [
    "## 5. Evaluate and Visualize Predictions"
   ]
  },
  {
   "cell_type": "markdown",
   "id": "87c406e1",
   "metadata": {},
   "source": [
    "### Evaluate the model on the test set and plot actual vs. predicted prices."
   ]
  },
  {
   "cell_type": "code",
   "execution_count": null,
   "id": "b1b1ed98",
   "metadata": {},
   "outputs": [],
   "source": [
    "print(\"\\n--- Evaluating Model on Test Set ---\")\n",
    "model.eval()\n",
    "test_predictions = []\n",
    "actual_prices = []\n",
    "\n",
    "with torch.no_grad():\n",
    "    for batch_X, batch_y in test_loader:\n",
    "        outputs = model(batch_X)\n",
    "        test_predictions.extend(outputs.cpu().numpy().flatten())\n",
    "        actual_prices.extend(batch_y.cpu().numpy().flatten())"
   ]
  },
  {
   "cell_type": "markdown",
   "id": "9a431d88",
   "metadata": {},
   "source": [
    "### Calculate test loss"
   ]
  },
  {
   "cell_type": "code",
   "execution_count": null,
   "id": "72a1ff25",
   "metadata": {},
   "outputs": [],
   "source": [
    "test_loss = criterion(torch.tensor(test_predictions).to(device), torch.tensor(actual_prices).to(device))\n",
    "print(f\"Test Loss (MSE): {test_loss.item():.6f}\")"
   ]
  },
  {
   "cell_type": "markdown",
   "id": "69399a9e",
   "metadata": {},
   "source": [
    "### Conevert to NumPy arrays"
   ]
  },
  {
   "cell_type": "code",
   "execution_count": null,
   "id": "dced695a",
   "metadata": {},
   "outputs": [],
   "source": [
    "test_loss = criterion(torch.tensor(test_predictions).to(device), torch.tensor(actual_prices).to(device))\n",
    "print(f\"Test Loss (MSE): {test_loss.item():.6f}\")"
   ]
  },
  {
   "cell_type": "markdown",
   "id": "7a2cc236",
   "metadata": {},
   "source": [
    "### Inverse transform Predictions"
   ]
  },
  {
   "cell_type": "code",
   "execution_count": null,
   "id": "48e24d44",
   "metadata": {},
   "outputs": [],
   "source": [
    "close_col_idx = features_to_scale.index('close')\n",
    "num_features = len(features_to_scale)\n",
    "dummy_predictions_array = np.zeros((len(test_predictions_np), num_features))\n",
    "dummy_predictions_array[:, close_col_idx] = test_predictions_np\n",
    "original_predictions = scaler.inverse_transform(dummy_predictions_array)[:, close_col_idx]"
   ]
  },
  {
   "cell_type": "markdown",
   "id": "5beab2f8",
   "metadata": {},
   "source": [
    "### Inverse transform actual prices"
   ]
  },
  {
   "cell_type": "code",
   "execution_count": null,
   "id": "037854b3",
   "metadata": {},
   "outputs": [],
   "source": [
    "dummy_actual_array = np.zeros((len(actual_prices_np), num_features))\n",
    "dummy_actual_array[:, close_col_idx] = actual_prices_np\n",
    "original_actual_prices = scaler.inverse_transform(dummy_actual_array)[:, close_col_idx]"
   ]
  },
  {
   "cell_type": "markdown",
   "id": "13e0b0dc",
   "metadata": {},
   "source": [
    "### Plot Actual vs. Predicted Prices"
   ]
  },
  {
   "cell_type": "code",
   "execution_count": null,
   "id": "11dd78cf",
   "metadata": {},
   "outputs": [],
   "source": [
    "plt.figure(figsize=(16, 8))\n",
    "plt.plot(original_actual_prices, label='Actual Prices (Original Scale)', color='blue')\n",
    "plt.plot(original_predictions, label='Predicted Prices (Original Scale)', color='red', linestyle='--')\n",
    "plt.title('Actual vs. Predicted Stock Prices')\n",
    "plt.xlabel('Time Step (Test Set)')\n",
    "plt.ylabel('Price')\n",
    "plt.legend()\n",
    "plt.grid(True)\n",
    "plt.show()\n"
   ]
  },
  {
   "cell_type": "markdown",
   "id": "3013d97a",
   "metadata": {},
   "source": [
    "### Plot a smaller segment"
   ]
  },
  {
   "cell_type": "code",
   "execution_count": null,
   "id": "7f74d456",
   "metadata": {},
   "outputs": [],
   "source": [
    "plt.figure(figsize=(16, 8))\n",
    "plot_start_idx = 0\n",
    "plot_end_idx = 100\n",
    "plt.plot(original_actual_prices[plot_start_idx:plot_end_idx], label='Actual Prices (Original Scale)', color='blue')\n",
    "plt.plot(original_predictions[plot_start_idx:plot_end_idx], label='Predicted Prices (Original Scale)', color='red', linestyle='--')\n",
    "plt.title(f'Actual vs. Predicted Stock Prices (First {plot_end_idx} Test Samples)')\n",
    "plt.xlabel('Time Step (Test Set)')\n",
    "plt.ylabel('Price')\n",
    "plt.legend()\n",
    "plt.grid(True)\n",
    "plt.show()\n"
   ]
  },
  {
   "cell_type": "code",
   "execution_count": null,
   "id": "d49db1a5",
   "metadata": {},
   "outputs": [],
   "source": [
    "print(\"\\n--- PyTorch LSTM Training and Evaluation Complete ---\")"
   ]
  }
 ],
 "metadata": {
  "kernelspec": {
   "display_name": ".normal_venv",
   "language": "python",
   "name": "python3"
  },
  "language_info": {
   "name": "python",
   "version": "3.11.11"
  }
 },
 "nbformat": 4,
 "nbformat_minor": 5
}
